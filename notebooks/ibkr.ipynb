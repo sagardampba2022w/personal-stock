{
 "cells": [
  {
   "cell_type": "code",
   "execution_count": 7,
   "metadata": {},
   "outputs": [
    {
     "name": "stderr",
     "output_type": "stream",
     "text": [
      "Error 321, reqId -1: Error validating request.-'ct' : cause - The API interface is currently in Read-Only mode.\n",
      "Error 321, reqId -1: Error validating request.-'b3' : cause - The API interface is currently in Read-Only mode.\n",
      "open orders request timed out\n",
      "completed orders request timed out\n"
     ]
    },
    {
     "name": "stdout",
     "output_type": "stream",
     "text": [
      "Connection successful: True\n"
     ]
    }
   ],
   "source": [
    "import nest_asyncio\n",
    "nest_asyncio.apply()\n",
    "from ib_insync import *\n",
    "\n",
    "ib = IB()\n",
    "ib.connect('127.0.0.1', 7496, clientId=1)  # Use 7496 for live\n",
    "\n",
    "print(\"Connection successful:\", ib.isConnected())\n",
    "ib.disconnect()"
   ]
  },
  {
   "cell_type": "code",
   "execution_count": 9,
   "metadata": {},
   "outputs": [
    {
     "name": "stderr",
     "output_type": "stream",
     "text": [
      "Error 321, reqId -1: Error validating request.-'ct' : cause - The API interface is currently in Read-Only mode.\n",
      "Error 321, reqId -1: Error validating request.-'b3' : cause - The API interface is currently in Read-Only mode.\n",
      "open orders request timed out\n",
      "completed orders request timed out\n"
     ]
    },
    {
     "name": "stdout",
     "output_type": "stream",
     "text": [
      "                       date    open    high     low   close      volume  \\\n",
      "0 2025-06-20 09:30:00-04:00  198.12  199.63  197.52  199.41  10640904.0   \n",
      "1 2025-06-20 09:35:00-04:00  199.41  200.66  199.37  200.45   1841505.0   \n",
      "2 2025-06-20 09:40:00-04:00  200.46  200.95  200.34  200.60   1276327.0   \n",
      "3 2025-06-20 09:45:00-04:00  200.59  200.72  199.73  199.77    770623.0   \n",
      "4 2025-06-20 09:50:00-04:00  199.78  200.35  199.74  200.35    577985.0   \n",
      "\n",
      "   average  barCount  \n",
      "0  198.421      8243  \n",
      "1  199.966      9502  \n",
      "2  200.640      6746  \n",
      "3  200.094      4401  \n",
      "4  200.085      3323  \n"
     ]
    }
   ],
   "source": [
    "import nest_asyncio\n",
    "nest_asyncio.apply()\n",
    "from ib_insync import *\n",
    "\n",
    "ib = IB()\n",
    "ib.connect('127.0.0.1', 7496, clientId=1)\n",
    "\n",
    "contract = Stock('AAPL', 'SMART', 'USD')\n",
    "bars = ib.reqHistoricalData(\n",
    "    contract,\n",
    "    endDateTime='',\n",
    "    durationStr='1 D',\n",
    "    barSizeSetting='5 mins',\n",
    "    whatToShow='TRADES',\n",
    "    useRTH=True,\n",
    "    formatDate=1\n",
    ")\n",
    "\n",
    "import pandas as pd\n",
    "df = util.df(bars)\n",
    "print(df.head())\n",
    "\n",
    "ib.disconnect()"
   ]
  },
  {
   "cell_type": "code",
   "execution_count": 17,
   "metadata": {},
   "outputs": [
    {
     "name": "stderr",
     "output_type": "stream",
     "text": [
      "Error 321, reqId -1: Error validating request.-'ct' : cause - The API interface is currently in Read-Only mode.\n"
     ]
    },
    {
     "name": "stderr",
     "output_type": "stream",
     "text": [
      "Error 321, reqId -1: Error validating request.-'b3' : cause - The API interface is currently in Read-Only mode.\n",
      "open orders request timed out\n",
      "completed orders request timed out\n"
     ]
    },
    {
     "name": "stdout",
     "output_type": "stream",
     "text": [
      "Portfolio:\n",
      "IBKR 1.9276 99.33\n",
      "AccountType INDIVIDUAL \n",
      "Cushion 1 \n",
      "LookAheadNextChange 0 \n",
      "AccruedCash 0.00 USD\n",
      "AvailableFunds 9965.00 USD\n",
      "BuyingPower 9965.00 USD\n",
      "EquityWithLoanValue 9965.00 USD\n",
      "ExcessLiquidity 9965.00 USD\n",
      "FullAvailableFunds 9965.00 USD\n",
      "FullExcessLiquidity 9965.00 USD\n",
      "FullInitMarginReq 0.00 USD\n",
      "FullMaintMarginReq 0.00 USD\n",
      "GrossPositionValue 99.33 USD\n",
      "InitMarginReq 0.00 USD\n",
      "LookAheadAvailableFunds 9965.00 USD\n",
      "LookAheadExcessLiquidity 9965.00 USD\n",
      "LookAheadInitMarginReq 0.00 USD\n",
      "LookAheadMaintMarginReq 0.00 USD\n",
      "MaintMarginReq 0.00 USD\n",
      "NetLiquidation 10064.33 USD\n",
      "SettledCash 9965.00 USD\n",
      "TotalCashValue 9965.00 USD\n",
      "Currency USD USD\n",
      "CashBalance 9965.00 USD\n",
      "TotalCashBalance 9965.00 USD\n",
      "AccruedCash 0.00 USD\n",
      "StockMarketValue 99.33 USD\n",
      "OptionMarketValue 0.00 USD\n",
      "FutureOptionValue 0.00 USD\n",
      "FuturesPNL 0.00 USD\n",
      "NetLiquidationByCurrency 10064.3292 USD\n",
      "UnrealizedPnL -0.34 USD\n",
      "RealizedPnL 0.00 USD\n",
      "ExchangeRate 1.00 USD\n",
      "FundValue 0.00 USD\n",
      "NetDividend 0.00 USD\n",
      "MutualFundValue 0.00 USD\n",
      "MoneyMarketFundValue 0.00 USD\n",
      "CorporateBondValue 0.00 USD\n",
      "TBondValue 0.00 USD\n",
      "TBillValue 0.00 USD\n",
      "WarrantValue 0.00 USD\n",
      "FxCashBalance 0.00 USD\n",
      "AccountOrGroup All USD\n",
      "RealCurrency USD USD\n",
      "IssuerOptionValue 0.00 USD\n",
      "Cryptocurrency  USD\n",
      "Currency BASE BASE\n",
      "CashBalance 9965.00 BASE\n",
      "TotalCashBalance 9965.00 BASE\n",
      "AccruedCash 0.00 BASE\n",
      "StockMarketValue 99.33 BASE\n",
      "OptionMarketValue 0.00 BASE\n",
      "FutureOptionValue 0.00 BASE\n",
      "FuturesPNL 0.00 BASE\n",
      "NetLiquidationByCurrency 10064.3292 BASE\n",
      "UnrealizedPnL -0.34 BASE\n",
      "RealizedPnL 0.00 BASE\n",
      "ExchangeRate 1.00 BASE\n",
      "FundValue 0.00 BASE\n",
      "NetDividend 0.00 BASE\n",
      "MutualFundValue 0.00 BASE\n",
      "MoneyMarketFundValue 0.00 BASE\n",
      "CorporateBondValue 0.00 BASE\n",
      "TBondValue 0.00 BASE\n",
      "TBillValue 0.00 BASE\n",
      "WarrantValue 0.00 BASE\n",
      "FxCashBalance 0.00 BASE\n",
      "AccountOrGroup All BASE\n",
      "RealCurrency BASE BASE\n",
      "IssuerOptionValue 0.00 BASE\n",
      "Cryptocurrency  BASE\n"
     ]
    }
   ],
   "source": [
    "import nest_asyncio\n",
    "nest_asyncio.apply()\n",
    "from ib_insync import *\n",
    "\n",
    "ib = IB()\n",
    "ib.connect('127.0.0.1', 7496, clientId=1)\n",
    "\n",
    "# Portfolio positions\n",
    "portfolio = ib.portfolio()\n",
    "print(\"Portfolio:\")\n",
    "for pos in portfolio:\n",
    "    print(pos.contract.symbol, pos.position, pos.marketValue)\n",
    "\n",
    "# Account summary\n",
    "summary = ib.accountSummary()\n",
    "for item in summary:\n",
    "    print(item.tag, item.value, item.currency)\n",
    "\n",
    "ib.disconnect()"
   ]
  },
  {
   "cell_type": "code",
   "execution_count": null,
   "metadata": {},
   "outputs": [],
   "source": []
  },
  {
   "cell_type": "code",
   "execution_count": 12,
   "metadata": {},
   "outputs": [
    {
     "data": {
      "text/plain": [
       "[PortfolioItem(contract=Stock(conId=43645865, symbol='IBKR', right='0', primaryExchange='NASDAQ', currency='USD', localSymbol='IBKR', tradingClass='NMS'), position=1.9276, marketPrice=51.5299988, marketValue=99.33, averageCost=51.70678565, unrealizedPNL=-0.34, realizedPNL=0.0, account='U19575352')]"
      ]
     },
     "execution_count": 12,
     "metadata": {},
     "output_type": "execute_result"
    }
   ],
   "source": [
    "portfolio"
   ]
  },
  {
   "cell_type": "code",
   "execution_count": 25,
   "metadata": {},
   "outputs": [
    {
     "name": "stderr",
     "output_type": "stream",
     "text": [
      "Error 321, reqId -1: Error validating request.-'ct' : cause - The API interface is currently in Read-Only mode.\n",
      "Error 321, reqId -1: Error validating request.-'b3' : cause - The API interface is currently in Read-Only mode.\n",
      "open orders request timed out\n",
      "completed orders request timed out\n"
     ]
    }
   ],
   "source": [
    "import nest_asyncio\n",
    "nest_asyncio.apply()\n",
    "from ib_insync import *\n",
    "\n",
    "ib = IB()\n",
    "ib.connect('127.0.0.1', 7496, clientId=1)\n",
    "\n",
    "# Portfolio positions\n",
    "trades = ib.trades()\n",
    "# print(\"Portfolio:\")\n",
    "# for pos in portfolio:\n",
    "#     print(pos.contract.symbol, pos.position, pos.marketValue)\n",
    "\n",
    "for item in trades:\n",
    "    print(item)\n",
    "\n",
    "ib.disconnect()"
   ]
  },
  {
   "cell_type": "code",
   "execution_count": 57,
   "metadata": {},
   "outputs": [
    {
     "name": "stdout",
     "output_type": "stream",
     "text": [
      "Topics in report: {'AccountInformation', 'EquitySummaryByReportDateInBase', 'FlexStatements', 'FlexStatement', 'CashReportCurrency', 'OpenPosition', 'MTDYTDPerformanceSummaryUnderlying', 'FlexQueryResponse', 'ChangeInNAV', 'CashTransaction', 'StatementOfFundsLine'}\n"
     ]
    },
    {
     "data": {
      "text/plain": [
       "{'AccountInformation',\n",
       " 'CashReportCurrency',\n",
       " 'CashTransaction',\n",
       " 'ChangeInNAV',\n",
       " 'EquitySummaryByReportDateInBase',\n",
       " 'FlexQueryResponse',\n",
       " 'FlexStatement',\n",
       " 'FlexStatements',\n",
       " 'MTDYTDPerformanceSummaryUnderlying',\n",
       " 'OpenPosition',\n",
       " 'StatementOfFundsLine'}"
      ]
     },
     "execution_count": 57,
     "metadata": {},
     "output_type": "execute_result"
    }
   ],
   "source": [
    "from ib_insync.flexreport import FlexReport\n",
    "\n",
    "TOKEN = '251238230761689496086464'\n",
    "QUERY_ID = '1241423'\n",
    "\n",
    "report = FlexReport(TOKEN, QUERY_ID)\n",
    "\n",
    "# 3. See available topics (to double-check spelling, e.g., 'Trade' or 'TradeConfirm')\n",
    "print(\"Topics in report:\", report.topics())\n",
    "\n",
    "report.topics()\n"
   ]
  },
  {
   "cell_type": "code",
   "execution_count": 65,
   "metadata": {},
   "outputs": [
    {
     "data": {
      "text/plain": [
       "Index(['accountId', 'acctAlias', 'model', 'currency', 'name', 'accountType',\n",
       "       'customerType', 'accountCapabilities', 'tradingPermissions',\n",
       "       'accountRepName', 'accountRepPhone', 'dateOpened', 'dateFunded',\n",
       "       'dateClosed', 'lastTradedDate', 'street', 'street2', 'city', 'state',\n",
       "       'country', 'postalCode', 'streetResidentialAddress',\n",
       "       'street2ResidentialAddress', 'cityResidentialAddress',\n",
       "       'stateResidentialAddress', 'countryResidentialAddress',\n",
       "       'postalCodeResidentialAddress', 'masterName', 'ibEntity',\n",
       "       'primaryEmail'],\n",
       "      dtype='object')"
      ]
     },
     "execution_count": 65,
     "metadata": {},
     "output_type": "execute_result"
    }
   ],
   "source": [
    "open_positions = report.df('OpenPosition')\n",
    "open_positions\n",
    "cash_df = report.df('CashTransaction')\n",
    "cash_df\n",
    "account_df = report.df('AccountInformation')\n",
    "account_df.columns"
   ]
  },
  {
   "cell_type": "code",
   "execution_count": null,
   "metadata": {},
   "outputs": [
    {
     "name": "stderr",
     "output_type": "stream",
     "text": [
      "Error 321, reqId -1: Error validating request.-'ct' : cause - The API interface is currently in Read-Only mode.\n",
      "Error 321, reqId -1: Error validating request.-'b3' : cause - The API interface is currently in Read-Only mode.\n",
      "open orders request timed out\n",
      "completed orders request timed out\n"
     ]
    },
    {
     "name": "stdout",
     "output_type": "stream",
     "text": [
      "Portfolio and account summary extracted and saved to ib_portfolio_and_account.xlsx.\n"
     ]
    }
   ],
   "source": [
    "import nest_asyncio\n",
    "nest_asyncio.apply()\n",
    "from ib_insync import *\n",
    "import pandas as pd\n",
    "from datetime import datetime\n",
    "\n",
    "def extract_ib_portfolio(ib):\n",
    "    portfolio = ib.portfolio()\n",
    "    now = datetime.now().strftime('%Y-%m-%d %H:%M:%S')\n",
    "    data = []\n",
    "    for pos in portfolio:\n",
    "        row = {\n",
    "            'DateTime': now,\n",
    "            'Symbol': pos.contract.symbol,\n",
    "            'Exchange': pos.contract.primaryExchange,\n",
    "            'Currency': pos.contract.currency,\n",
    "            'Position': pos.position,\n",
    "            'Market Price': pos.marketPrice,\n",
    "            'Market Value': pos.marketValue,\n",
    "            'Average Cost': pos.averageCost,\n",
    "            'Unrealized PnL': pos.unrealizedPNL,\n",
    "            'Realized PnL': pos.realizedPNL,\n",
    "            'Account': pos.account\n",
    "        }\n",
    "        data.append(row)\n",
    "    return pd.DataFrame(data)\n",
    "\n",
    "def extract_ib_account_summary(ib):\n",
    "    summary = ib.accountSummary()\n",
    "    now = datetime.now().strftime('%Y-%m-%d %H:%M:%S')\n",
    "    data = []\n",
    "    for item in summary:\n",
    "        row = {\n",
    "            'DateTime': now,\n",
    "            'Tag': item.tag,\n",
    "            'Value': item.value,\n",
    "            'Currency': item.currency,\n",
    "            'Account': item.account\n",
    "        }\n",
    "        data.append(row)\n",
    "    return pd.DataFrame(data)\n",
    "\n",
    "if __name__ == \"__main__\":\n",
    "    ib = IB()\n",
    "    ib.connect('127.0.0.1', 7496, clientId=1)\n",
    "\n",
    "    # Extract data\n",
    "    portfolio_df = extract_ib_portfolio(ib)\n",
    "    account_df = extract_ib_account_summary(ib)\n",
    "\n",
    "\n",
    "    \n",
    "    print('Portfolio and account summary extracted and saved to ib_portfolio_and_account.xlsx.')\n",
    "\n",
    "    ib.disconnect()\n"
   ]
  },
  {
   "cell_type": "markdown",
   "metadata": {},
   "source": [
    "summary"
   ]
  },
  {
   "cell_type": "code",
   "execution_count": 75,
   "metadata": {},
   "outputs": [
    {
     "name": "stdout",
     "output_type": "stream",
     "text": [
      "['__add__', '__annotations__', '__class__', '__class_getitem__', '__contains__', '__delattr__', '__dir__', '__doc__', '__eq__', '__firstlineno__', '__format__', '__ge__', '__getattribute__', '__getitem__', '__getnewargs__', '__getstate__', '__gt__', '__hash__', '__init__', '__init_subclass__', '__iter__', '__le__', '__len__', '__lt__', '__match_args__', '__module__', '__mul__', '__ne__', '__new__', '__orig_bases__', '__reduce__', '__reduce_ex__', '__replace__', '__repr__', '__rmul__', '__setattr__', '__sizeof__', '__slots__', '__static_attributes__', '__str__', '__subclasshook__', '_asdict', '_field_defaults', '_fields', '_make', '_replace', 'account', 'count', 'currency', 'index', 'modelCode', 'tag', 'value']\n"
     ]
    }
   ],
   "source": [
    "for item in summary:\n",
    "    print(dir(item))\n",
    "    break  # just show for the first item\n"
   ]
  },
  {
   "cell_type": "code",
   "execution_count": 76,
   "metadata": {},
   "outputs": [
    {
     "data": {
      "text/plain": [
       "[AccountValue(account='U19575352', tag='AccountType', value='INDIVIDUAL', currency='', modelCode=''),\n",
       " AccountValue(account='U19575352', tag='Cushion', value='1', currency='', modelCode=''),\n",
       " AccountValue(account='U19575352', tag='LookAheadNextChange', value='0', currency='', modelCode=''),\n",
       " AccountValue(account='U19575352', tag='AccruedCash', value='0.00', currency='USD', modelCode=''),\n",
       " AccountValue(account='U19575352', tag='AvailableFunds', value='9965.00', currency='USD', modelCode=''),\n",
       " AccountValue(account='U19575352', tag='BuyingPower', value='9965.00', currency='USD', modelCode=''),\n",
       " AccountValue(account='U19575352', tag='EquityWithLoanValue', value='9965.00', currency='USD', modelCode=''),\n",
       " AccountValue(account='U19575352', tag='ExcessLiquidity', value='9965.00', currency='USD', modelCode=''),\n",
       " AccountValue(account='U19575352', tag='FullAvailableFunds', value='9965.00', currency='USD', modelCode=''),\n",
       " AccountValue(account='U19575352', tag='FullExcessLiquidity', value='9965.00', currency='USD', modelCode=''),\n",
       " AccountValue(account='U19575352', tag='FullInitMarginReq', value='0.00', currency='USD', modelCode=''),\n",
       " AccountValue(account='U19575352', tag='FullMaintMarginReq', value='0.00', currency='USD', modelCode=''),\n",
       " AccountValue(account='U19575352', tag='GrossPositionValue', value='99.33', currency='USD', modelCode=''),\n",
       " AccountValue(account='U19575352', tag='InitMarginReq', value='0.00', currency='USD', modelCode=''),\n",
       " AccountValue(account='U19575352', tag='LookAheadAvailableFunds', value='9965.00', currency='USD', modelCode=''),\n",
       " AccountValue(account='U19575352', tag='LookAheadExcessLiquidity', value='9965.00', currency='USD', modelCode=''),\n",
       " AccountValue(account='U19575352', tag='LookAheadInitMarginReq', value='0.00', currency='USD', modelCode=''),\n",
       " AccountValue(account='U19575352', tag='LookAheadMaintMarginReq', value='0.00', currency='USD', modelCode=''),\n",
       " AccountValue(account='U19575352', tag='MaintMarginReq', value='0.00', currency='USD', modelCode=''),\n",
       " AccountValue(account='U19575352', tag='NetLiquidation', value='10064.33', currency='USD', modelCode=''),\n",
       " AccountValue(account='U19575352', tag='SettledCash', value='9965.00', currency='USD', modelCode=''),\n",
       " AccountValue(account='U19575352', tag='TotalCashValue', value='9965.00', currency='USD', modelCode=''),\n",
       " AccountValue(account='All', tag='Currency', value='USD', currency='USD', modelCode=''),\n",
       " AccountValue(account='All', tag='CashBalance', value='9965.00', currency='USD', modelCode=''),\n",
       " AccountValue(account='All', tag='TotalCashBalance', value='9965.00', currency='USD', modelCode=''),\n",
       " AccountValue(account='All', tag='AccruedCash', value='0.00', currency='USD', modelCode=''),\n",
       " AccountValue(account='All', tag='StockMarketValue', value='99.33', currency='USD', modelCode=''),\n",
       " AccountValue(account='All', tag='OptionMarketValue', value='0.00', currency='USD', modelCode=''),\n",
       " AccountValue(account='All', tag='FutureOptionValue', value='0.00', currency='USD', modelCode=''),\n",
       " AccountValue(account='All', tag='FuturesPNL', value='0.00', currency='USD', modelCode=''),\n",
       " AccountValue(account='All', tag='NetLiquidationByCurrency', value='10064.3292', currency='USD', modelCode=''),\n",
       " AccountValue(account='All', tag='UnrealizedPnL', value='-0.34', currency='USD', modelCode=''),\n",
       " AccountValue(account='All', tag='RealizedPnL', value='0.00', currency='USD', modelCode=''),\n",
       " AccountValue(account='All', tag='ExchangeRate', value='1.00', currency='USD', modelCode=''),\n",
       " AccountValue(account='All', tag='FundValue', value='0.00', currency='USD', modelCode=''),\n",
       " AccountValue(account='All', tag='NetDividend', value='0.00', currency='USD', modelCode=''),\n",
       " AccountValue(account='All', tag='MutualFundValue', value='0.00', currency='USD', modelCode=''),\n",
       " AccountValue(account='All', tag='MoneyMarketFundValue', value='0.00', currency='USD', modelCode=''),\n",
       " AccountValue(account='All', tag='CorporateBondValue', value='0.00', currency='USD', modelCode=''),\n",
       " AccountValue(account='All', tag='TBondValue', value='0.00', currency='USD', modelCode=''),\n",
       " AccountValue(account='All', tag='TBillValue', value='0.00', currency='USD', modelCode=''),\n",
       " AccountValue(account='All', tag='WarrantValue', value='0.00', currency='USD', modelCode=''),\n",
       " AccountValue(account='All', tag='FxCashBalance', value='0.00', currency='USD', modelCode=''),\n",
       " AccountValue(account='All', tag='AccountOrGroup', value='All', currency='USD', modelCode=''),\n",
       " AccountValue(account='All', tag='RealCurrency', value='USD', currency='USD', modelCode=''),\n",
       " AccountValue(account='All', tag='IssuerOptionValue', value='0.00', currency='USD', modelCode=''),\n",
       " AccountValue(account='All', tag='Cryptocurrency', value='', currency='USD', modelCode=''),\n",
       " AccountValue(account='All', tag='Currency', value='BASE', currency='BASE', modelCode=''),\n",
       " AccountValue(account='All', tag='CashBalance', value='9965.00', currency='BASE', modelCode=''),\n",
       " AccountValue(account='All', tag='TotalCashBalance', value='9965.00', currency='BASE', modelCode=''),\n",
       " AccountValue(account='All', tag='AccruedCash', value='0.00', currency='BASE', modelCode=''),\n",
       " AccountValue(account='All', tag='StockMarketValue', value='99.33', currency='BASE', modelCode=''),\n",
       " AccountValue(account='All', tag='OptionMarketValue', value='0.00', currency='BASE', modelCode=''),\n",
       " AccountValue(account='All', tag='FutureOptionValue', value='0.00', currency='BASE', modelCode=''),\n",
       " AccountValue(account='All', tag='FuturesPNL', value='0.00', currency='BASE', modelCode=''),\n",
       " AccountValue(account='All', tag='NetLiquidationByCurrency', value='10064.3292', currency='BASE', modelCode=''),\n",
       " AccountValue(account='All', tag='UnrealizedPnL', value='-0.34', currency='BASE', modelCode=''),\n",
       " AccountValue(account='All', tag='RealizedPnL', value='0.00', currency='BASE', modelCode=''),\n",
       " AccountValue(account='All', tag='ExchangeRate', value='1.00', currency='BASE', modelCode=''),\n",
       " AccountValue(account='All', tag='FundValue', value='0.00', currency='BASE', modelCode=''),\n",
       " AccountValue(account='All', tag='NetDividend', value='0.00', currency='BASE', modelCode=''),\n",
       " AccountValue(account='All', tag='MutualFundValue', value='0.00', currency='BASE', modelCode=''),\n",
       " AccountValue(account='All', tag='MoneyMarketFundValue', value='0.00', currency='BASE', modelCode=''),\n",
       " AccountValue(account='All', tag='CorporateBondValue', value='0.00', currency='BASE', modelCode=''),\n",
       " AccountValue(account='All', tag='TBondValue', value='0.00', currency='BASE', modelCode=''),\n",
       " AccountValue(account='All', tag='TBillValue', value='0.00', currency='BASE', modelCode=''),\n",
       " AccountValue(account='All', tag='WarrantValue', value='0.00', currency='BASE', modelCode=''),\n",
       " AccountValue(account='All', tag='FxCashBalance', value='0.00', currency='BASE', modelCode=''),\n",
       " AccountValue(account='All', tag='AccountOrGroup', value='All', currency='BASE', modelCode=''),\n",
       " AccountValue(account='All', tag='RealCurrency', value='BASE', currency='BASE', modelCode=''),\n",
       " AccountValue(account='All', tag='IssuerOptionValue', value='0.00', currency='BASE', modelCode=''),\n",
       " AccountValue(account='All', tag='Cryptocurrency', value='', currency='BASE', modelCode='')]"
      ]
     },
     "execution_count": 76,
     "metadata": {},
     "output_type": "execute_result"
    }
   ],
   "source": [
    "summary"
   ]
  },
  {
   "cell_type": "code",
   "execution_count": 79,
   "metadata": {},
   "outputs": [
    {
     "data": {
      "text/plain": [
       "{'AccountOrGroup',\n",
       " 'AccountType',\n",
       " 'AccruedCash',\n",
       " 'AvailableFunds',\n",
       " 'BuyingPower',\n",
       " 'CashBalance',\n",
       " 'CorporateBondValue',\n",
       " 'Cryptocurrency',\n",
       " 'Currency',\n",
       " 'Cushion',\n",
       " 'EquityWithLoanValue',\n",
       " 'ExcessLiquidity',\n",
       " 'ExchangeRate',\n",
       " 'FullAvailableFunds',\n",
       " 'FullExcessLiquidity',\n",
       " 'FullInitMarginReq',\n",
       " 'FullMaintMarginReq',\n",
       " 'FundValue',\n",
       " 'FutureOptionValue',\n",
       " 'FuturesPNL',\n",
       " 'FxCashBalance',\n",
       " 'GrossPositionValue',\n",
       " 'InitMarginReq',\n",
       " 'IssuerOptionValue',\n",
       " 'LookAheadAvailableFunds',\n",
       " 'LookAheadExcessLiquidity',\n",
       " 'LookAheadInitMarginReq',\n",
       " 'LookAheadMaintMarginReq',\n",
       " 'LookAheadNextChange',\n",
       " 'MaintMarginReq',\n",
       " 'MoneyMarketFundValue',\n",
       " 'MutualFundValue',\n",
       " 'NetDividend',\n",
       " 'NetLiquidation',\n",
       " 'NetLiquidationByCurrency',\n",
       " 'OptionMarketValue',\n",
       " 'RealCurrency',\n",
       " 'RealizedPnL',\n",
       " 'SettledCash',\n",
       " 'StockMarketValue',\n",
       " 'TBillValue',\n",
       " 'TBondValue',\n",
       " 'TotalCashBalance',\n",
       " 'TotalCashValue',\n",
       " 'UnrealizedPnL',\n",
       " 'WarrantValue'}"
      ]
     },
     "execution_count": 79,
     "metadata": {},
     "output_type": "execute_result"
    }
   ],
   "source": [
    "# summary is the list returned by ib.accountSummary()\n",
    "all_tags = set(item.tag for item in summary)\n",
    "all_tags\n"
   ]
  },
  {
   "cell_type": "code",
   "execution_count": null,
   "metadata": {},
   "outputs": [],
   "source": []
  },
  {
   "cell_type": "code",
   "execution_count": 82,
   "metadata": {},
   "outputs": [
    {
     "name": "stderr",
     "output_type": "stream",
     "text": [
      "Error 321, reqId -1: Error validating request.-'ct' : cause - The API interface is currently in Read-Only mode.\n",
      "Error 321, reqId -1: Error validating request.-'b3' : cause - The API interface is currently in Read-Only mode.\n",
      "open orders request timed out\n",
      "completed orders request timed out\n"
     ]
    },
    {
     "name": "stdout",
     "output_type": "stream",
     "text": [
      "Core portfolio and account summary extracted and saved to ib_portfolio_and_account.xlsx.\n"
     ]
    }
   ],
   "source": [
    "import nest_asyncio\n",
    "nest_asyncio.apply()\n",
    "from ib_insync import *\n",
    "import pandas as pd\n",
    "from datetime import datetime\n",
    "\n",
    "# Define your shortlist of key tags\n",
    "CORE_TAGS = [\n",
    "    'NetLiquidation',\n",
    "    'TotalCashValue',\n",
    "    'AvailableFunds',\n",
    "    'BuyingPower',\n",
    "    'UnrealizedPnL',\n",
    "    'RealizedPnL'\n",
    "]\n",
    "\n",
    "def extract_ib_portfolio(ib):\n",
    "    portfolio = ib.portfolio()\n",
    "    now = datetime.now().strftime('%Y-%m-%d %H:%M:%S')\n",
    "    data = []\n",
    "    for pos in portfolio:\n",
    "        row = {\n",
    "            'DateTime': now,\n",
    "            'Symbol': pos.contract.symbol,\n",
    "            'Exchange': pos.contract.primaryExchange,\n",
    "            'Currency': pos.contract.currency,\n",
    "            'Position': pos.position,\n",
    "            'Market Price': pos.marketPrice,\n",
    "            'Market Value': pos.marketValue,\n",
    "            'Average Cost': pos.averageCost,\n",
    "            'Unrealized PnL': pos.unrealizedPNL,\n",
    "            'Realized PnL': pos.realizedPNL,\n",
    "            'Account': pos.account\n",
    "        }\n",
    "        data.append(row)\n",
    "    return pd.DataFrame(data)\n",
    "\n",
    "def extract_core_account_summary(ib):\n",
    "    summary = ib.accountSummary()\n",
    "    now = datetime.now().strftime('%Y-%m-%d %H:%M:%S')\n",
    "    data = []\n",
    "    for item in summary:\n",
    "        if item.tag in CORE_TAGS:\n",
    "            row = {\n",
    "                'DateTime': now,\n",
    "                'Tag': item.tag,\n",
    "                'Value': item.value,\n",
    "                'Currency': item.currency,\n",
    "                'Account': item.account\n",
    "            }\n",
    "            data.append(row)\n",
    "    return pd.DataFrame(data)\n",
    "\n",
    "if __name__ == \"__main__\":\n",
    "    ib = IB()\n",
    "    ib.connect('127.0.0.1', 7496, clientId=2)\n",
    "\n",
    "    # Extract data\n",
    "    portfolio_df = extract_ib_portfolio(ib)\n",
    "    account_df = extract_core_account_summary(ib)\n",
    "\n",
    "\n",
    "    print('Core portfolio and account summary extracted and saved to ib_portfolio_and_account.xlsx.')\n",
    "\n",
    "    ib.disconnect()\n"
   ]
  },
  {
   "cell_type": "code",
   "execution_count": 83,
   "metadata": {},
   "outputs": [
    {
     "data": {
      "text/html": [
       "<div>\n",
       "<style scoped>\n",
       "    .dataframe tbody tr th:only-of-type {\n",
       "        vertical-align: middle;\n",
       "    }\n",
       "\n",
       "    .dataframe tbody tr th {\n",
       "        vertical-align: top;\n",
       "    }\n",
       "\n",
       "    .dataframe thead th {\n",
       "        text-align: right;\n",
       "    }\n",
       "</style>\n",
       "<table border=\"1\" class=\"dataframe\">\n",
       "  <thead>\n",
       "    <tr style=\"text-align: right;\">\n",
       "      <th></th>\n",
       "      <th>DateTime</th>\n",
       "      <th>Symbol</th>\n",
       "      <th>Exchange</th>\n",
       "      <th>Currency</th>\n",
       "      <th>Position</th>\n",
       "      <th>Market Price</th>\n",
       "      <th>Market Value</th>\n",
       "      <th>Average Cost</th>\n",
       "      <th>Unrealized PnL</th>\n",
       "      <th>Realized PnL</th>\n",
       "      <th>Account</th>\n",
       "    </tr>\n",
       "  </thead>\n",
       "  <tbody>\n",
       "    <tr>\n",
       "      <th>0</th>\n",
       "      <td>2025-06-22 21:10:16</td>\n",
       "      <td>IBKR</td>\n",
       "      <td>NASDAQ</td>\n",
       "      <td>USD</td>\n",
       "      <td>1.9276</td>\n",
       "      <td>51.529999</td>\n",
       "      <td>99.33</td>\n",
       "      <td>51.706786</td>\n",
       "      <td>-0.34</td>\n",
       "      <td>0.0</td>\n",
       "      <td>U19575352</td>\n",
       "    </tr>\n",
       "  </tbody>\n",
       "</table>\n",
       "</div>"
      ],
      "text/plain": [
       "              DateTime Symbol Exchange Currency  Position  Market Price  \\\n",
       "0  2025-06-22 21:10:16   IBKR   NASDAQ      USD    1.9276     51.529999   \n",
       "\n",
       "   Market Value  Average Cost  Unrealized PnL  Realized PnL    Account  \n",
       "0         99.33     51.706786           -0.34           0.0  U19575352  "
      ]
     },
     "execution_count": 83,
     "metadata": {},
     "output_type": "execute_result"
    }
   ],
   "source": [
    "portfolio_df"
   ]
  },
  {
   "cell_type": "code",
   "execution_count": 84,
   "metadata": {},
   "outputs": [
    {
     "data": {
      "text/html": [
       "<div>\n",
       "<style scoped>\n",
       "    .dataframe tbody tr th:only-of-type {\n",
       "        vertical-align: middle;\n",
       "    }\n",
       "\n",
       "    .dataframe tbody tr th {\n",
       "        vertical-align: top;\n",
       "    }\n",
       "\n",
       "    .dataframe thead th {\n",
       "        text-align: right;\n",
       "    }\n",
       "</style>\n",
       "<table border=\"1\" class=\"dataframe\">\n",
       "  <thead>\n",
       "    <tr style=\"text-align: right;\">\n",
       "      <th></th>\n",
       "      <th>DateTime</th>\n",
       "      <th>Tag</th>\n",
       "      <th>Value</th>\n",
       "      <th>Currency</th>\n",
       "      <th>Account</th>\n",
       "    </tr>\n",
       "  </thead>\n",
       "  <tbody>\n",
       "    <tr>\n",
       "      <th>0</th>\n",
       "      <td>2025-06-22 21:10:18</td>\n",
       "      <td>AvailableFunds</td>\n",
       "      <td>9965.00</td>\n",
       "      <td>USD</td>\n",
       "      <td>U19575352</td>\n",
       "    </tr>\n",
       "    <tr>\n",
       "      <th>1</th>\n",
       "      <td>2025-06-22 21:10:18</td>\n",
       "      <td>BuyingPower</td>\n",
       "      <td>9965.00</td>\n",
       "      <td>USD</td>\n",
       "      <td>U19575352</td>\n",
       "    </tr>\n",
       "    <tr>\n",
       "      <th>2</th>\n",
       "      <td>2025-06-22 21:10:18</td>\n",
       "      <td>NetLiquidation</td>\n",
       "      <td>10064.33</td>\n",
       "      <td>USD</td>\n",
       "      <td>U19575352</td>\n",
       "    </tr>\n",
       "    <tr>\n",
       "      <th>3</th>\n",
       "      <td>2025-06-22 21:10:18</td>\n",
       "      <td>TotalCashValue</td>\n",
       "      <td>9965.00</td>\n",
       "      <td>USD</td>\n",
       "      <td>U19575352</td>\n",
       "    </tr>\n",
       "    <tr>\n",
       "      <th>4</th>\n",
       "      <td>2025-06-22 21:10:18</td>\n",
       "      <td>UnrealizedPnL</td>\n",
       "      <td>-0.34</td>\n",
       "      <td>USD</td>\n",
       "      <td>All</td>\n",
       "    </tr>\n",
       "    <tr>\n",
       "      <th>5</th>\n",
       "      <td>2025-06-22 21:10:18</td>\n",
       "      <td>RealizedPnL</td>\n",
       "      <td>0.00</td>\n",
       "      <td>USD</td>\n",
       "      <td>All</td>\n",
       "    </tr>\n",
       "    <tr>\n",
       "      <th>6</th>\n",
       "      <td>2025-06-22 21:10:18</td>\n",
       "      <td>UnrealizedPnL</td>\n",
       "      <td>-0.34</td>\n",
       "      <td>BASE</td>\n",
       "      <td>All</td>\n",
       "    </tr>\n",
       "    <tr>\n",
       "      <th>7</th>\n",
       "      <td>2025-06-22 21:10:18</td>\n",
       "      <td>RealizedPnL</td>\n",
       "      <td>0.00</td>\n",
       "      <td>BASE</td>\n",
       "      <td>All</td>\n",
       "    </tr>\n",
       "  </tbody>\n",
       "</table>\n",
       "</div>"
      ],
      "text/plain": [
       "              DateTime             Tag     Value Currency    Account\n",
       "0  2025-06-22 21:10:18  AvailableFunds   9965.00      USD  U19575352\n",
       "1  2025-06-22 21:10:18     BuyingPower   9965.00      USD  U19575352\n",
       "2  2025-06-22 21:10:18  NetLiquidation  10064.33      USD  U19575352\n",
       "3  2025-06-22 21:10:18  TotalCashValue   9965.00      USD  U19575352\n",
       "4  2025-06-22 21:10:18   UnrealizedPnL     -0.34      USD        All\n",
       "5  2025-06-22 21:10:18     RealizedPnL      0.00      USD        All\n",
       "6  2025-06-22 21:10:18   UnrealizedPnL     -0.34     BASE        All\n",
       "7  2025-06-22 21:10:18     RealizedPnL      0.00     BASE        All"
      ]
     },
     "execution_count": 84,
     "metadata": {},
     "output_type": "execute_result"
    }
   ],
   "source": [
    "account_df"
   ]
  },
  {
   "cell_type": "code",
   "execution_count": 69,
   "metadata": {},
   "outputs": [
    {
     "data": {
      "text/plain": [
       "<Worksheet 'Sheet1' id:0>"
      ]
     },
     "execution_count": 69,
     "metadata": {},
     "output_type": "execute_result"
    }
   ],
   "source": [
    "import gspread\n",
    "from gspread_dataframe import set_with_dataframe\n",
    "import pandas as pd\n",
    "\n",
    "\n",
    "gc = gspread.service_account(filename='gdrive-creds.json')\n",
    "sheet = gc.open('test')\n",
    "sheet.sheet1\n",
    "\n",
    "sheet.get_worksheet(0)\n"
   ]
  },
  {
   "cell_type": "code",
   "execution_count": 70,
   "metadata": {},
   "outputs": [
    {
     "name": "stdout",
     "output_type": "stream",
     "text": [
      "Portfolio uploaded to Google Sheets!\n"
     ]
    }
   ],
   "source": [
    "sh = gc.open('myportfolio')         # Spreadsheet object\n",
    "worksheet = sh.sheet1               # The first worksheet/tab\n",
    "# OR\n",
    "# worksheet = sh.worksheet('YourTabName')  # if you have a specific tab\n",
    "\n",
    "set_with_dataframe(worksheet, portfolio_df)\n",
    "print(\"Portfolio uploaded to Google Sheets!\")"
   ]
  },
  {
   "cell_type": "code",
   "execution_count": 67,
   "metadata": {},
   "outputs": [
    {
     "data": {
      "text/plain": [
       "Index(['DateTime', 'Symbol', 'Exchange', 'Currency', 'Position',\n",
       "       'Market Price', 'Market Value', 'Average Cost', 'Unrealized PnL',\n",
       "       'Realized PnL', 'Account'],\n",
       "      dtype='object')"
      ]
     },
     "execution_count": 67,
     "metadata": {},
     "output_type": "execute_result"
    }
   ],
   "source": [
    "portfolio_df.columns\n"
   ]
  },
  {
   "cell_type": "code",
   "execution_count": 88,
   "metadata": {},
   "outputs": [
    {
     "name": "stdout",
     "output_type": "stream",
     "text": [
      "Portfolio and account summary uploaded to Google Sheets!\n"
     ]
    }
   ],
   "source": [
    "import gspread\n",
    "from gspread_dataframe import set_with_dataframe\n",
    "\n",
    "gc = gspread.service_account(filename='gdrive-creds.json')\n",
    "\n",
    "sh = gc.open('myportfolio')\n",
    "\n",
    "# Write Portfolio DataFrame to \"Portfolio\" tab\n",
    "portfolio_ws = sh.worksheet('portfolio')  # Make sure this tab exists!\n",
    "portfolio_ws.clear()  # (optional: clear previous data)\n",
    "set_with_dataframe(portfolio_ws, portfolio_df)\n",
    "\n",
    "# Write Account DataFrame to \"AccountSummary\" tab\n",
    "account_ws = sh.worksheet('accountsummary')  # Make sure this tab exists!\n",
    "account_ws.clear()  # (optional)\n",
    "set_with_dataframe(account_ws, account_df)\n",
    "\n",
    "print(\"Portfolio and account summary uploaded to Google Sheets!\")\n"
   ]
  },
  {
   "cell_type": "code",
   "execution_count": 86,
   "metadata": {},
   "outputs": [
    {
     "data": {
      "text/plain": [
       "<Worksheet 'portfolio' id:1105055312>"
      ]
     },
     "execution_count": 86,
     "metadata": {},
     "output_type": "execute_result"
    }
   ],
   "source": [
    "sh.worksheet('portfolio') "
   ]
  }
 ],
 "metadata": {
  "kernelspec": {
   "display_name": ".venv",
   "language": "python",
   "name": "python3"
  },
  "language_info": {
   "codemirror_mode": {
    "name": "ipython",
    "version": 3
   },
   "file_extension": ".py",
   "mimetype": "text/x-python",
   "name": "python",
   "nbconvert_exporter": "python",
   "pygments_lexer": "ipython3",
   "version": "3.13.3"
  }
 },
 "nbformat": 4,
 "nbformat_minor": 2
}
