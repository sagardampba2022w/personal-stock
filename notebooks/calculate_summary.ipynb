{
 "cells": [
  {
   "cell_type": "code",
   "execution_count": 29,
   "metadata": {},
   "outputs": [],
   "source": [
    "import pandas as pd\n",
    "import yfinance as yf\n",
    "import gspread\n",
    "from gspread_dataframe import get_as_dataframe"
   ]
  },
  {
   "cell_type": "code",
   "execution_count": 27,
   "metadata": {},
   "outputs": [],
   "source": [
    "def get_open_positions_from_gsheet(sheet_name='myportfolio', worksheet_name='portfolio'):\n",
    "    gc = gspread.service_account(filename='gdrive-creds.json')\n",
    "    sh = gc.open(sheet_name)\n",
    "    ws = sh.worksheet(worksheet_name)\n",
    "    df = get_as_dataframe(ws)\n",
    "    df = df.dropna(subset=['Symbol'])  # Clean up empty rows\n",
    "\n",
    "    # If your columns sometimes have unnamed first column, clean it:\n",
    "    if 'Unnamed: 0' in df.columns:\n",
    "        df = df.drop(columns=['Unnamed: 0'])\n",
    "\n",
    "    # Keep only the latest DateTime for each Symbol\n",
    "    df['DateTime'] = pd.to_datetime(df['DateTime'])\n",
    "    df = df.sort_values(['Symbol', 'DateTime'])\n",
    "    latest_df = df.groupby('Symbol').tail(1).reset_index(drop=True)\n",
    "\n",
    "    return latest_df\n"
   ]
  },
  {
   "cell_type": "code",
   "execution_count": 37,
   "metadata": {},
   "outputs": [],
   "source": [
    "def format_symbol(raw_symbol, exchange):\n",
    "    suffix = EXCHANGE_SUFFIX.get(exchange.upper())\n",
    "    if suffix is None:\n",
    "        raise ValueError(f\"Unknown exchange: {exchange}\")\n",
    "    return raw_symbol + suffix\n",
    "\n",
    "\n",
    "EXCHANGE_SUFFIX = {\n",
    "    \"NASDAQ\": \"\",\n",
    "    \"NYSE\": \"\",\n",
    "    \"AMEX\": \"\",\n",
    "    \"LSE\": \".L\",\n",
    "    \"LSEETF\": \".L\",  # <-- support non-standard LSEETF label\n",
    "    # add others like \"ASX\": \".AX\", \"PA\": \".PA\", etc.\n",
    "}\n"
   ]
  },
  {
   "cell_type": "code",
   "execution_count": 39,
   "metadata": {},
   "outputs": [],
   "source": [
    "port_df = get_open_positions_from_gsheet(sheet_name='myportfolio', \n",
    "                               worksheet_name='portfolio')\n",
    "\n",
    "\n",
    "\n",
    "port_df[\"FormattedSymbol\"] = port_df.apply(\n",
    "    lambda r: format_symbol(r[\"Symbol\"], r[\"Exchange\"]), axis=1\n",
    ")"
   ]
  },
  {
   "cell_type": "code",
   "execution_count": 41,
   "metadata": {},
   "outputs": [
    {
     "data": {
      "text/plain": [
       "['IB01.L', 'IBKR', 'IBTA.L', 'IGLN.L', 'IWDA.L', 'VUSD.L']"
      ]
     },
     "execution_count": 41,
     "metadata": {},
     "output_type": "execute_result"
    }
   ],
   "source": [
    "port_df\n",
    "unique_syms = port_df[\"FormattedSymbol\"].unique().tolist()\n",
    "unique_syms"
   ]
  },
  {
   "cell_type": "code",
   "execution_count": null,
   "metadata": {},
   "outputs": [],
   "source": []
  },
  {
   "cell_type": "code",
   "execution_count": 15,
   "metadata": {},
   "outputs": [],
   "source": [
    "def get_latest_prices(symbols):\n",
    "    price_dict = {}\n",
    "    for symbol in symbols:\n",
    "        try:\n",
    "            data = yf.Ticker(symbol)\n",
    "            latest = data.history(period=\"1d\")['Close']\n",
    "            if not latest.empty:\n",
    "                price_dict[symbol] = latest.iloc[-1]\n",
    "            else:\n",
    "                price_dict[symbol] = None\n",
    "        except Exception as e:\n",
    "            price_dict[symbol] = None\n",
    "    return price_dict\n",
    "\n",
    "\n",
    "def get_latest_prices(symbols):\n",
    "    price_dict = {}\n",
    "    price_date_dict = {}\n",
    "    for symbol in symbols:\n",
    "        try:\n",
    "            data = yf.Ticker(symbol)\n",
    "            latest = data.history(period=\"1d\")['Close']\n",
    "            if not latest.empty:\n",
    "                price_dict[symbol] = latest.iloc[-1]\n",
    "                price_date_dict[symbol] = latest.index[-1].strftime('%Y-%m-%d')\n",
    "            else:\n",
    "                price_dict[symbol] = None\n",
    "                price_date_dict[symbol] = None\n",
    "        except Exception as e:\n",
    "            price_dict[symbol] = None\n",
    "            price_date_dict[symbol] = None\n",
    "    return price_dict, price_date_dict\n"
   ]
  },
  {
   "cell_type": "code",
   "execution_count": 21,
   "metadata": {},
   "outputs": [
    {
     "data": {
      "text/plain": [
       "5.763999938964844"
      ]
     },
     "execution_count": 21,
     "metadata": {},
     "output_type": "execute_result"
    }
   ],
   "source": [
    "import yfinance as yf\n",
    "\n",
    "etf = yf.Ticker(\"IBTA.L\")  # or VUSD, VUSD.L, depending on listing\n",
    "fi = getattr(etf, \"fast_info\", None)\n",
    "fi.last_price"
   ]
  },
  {
   "cell_type": "code",
   "execution_count": 12,
   "metadata": {},
   "outputs": [
    {
     "data": {
      "text/html": [
       "<div>\n",
       "<style scoped>\n",
       "    .dataframe tbody tr th:only-of-type {\n",
       "        vertical-align: middle;\n",
       "    }\n",
       "\n",
       "    .dataframe tbody tr th {\n",
       "        vertical-align: top;\n",
       "    }\n",
       "\n",
       "    .dataframe thead th {\n",
       "        text-align: right;\n",
       "    }\n",
       "</style>\n",
       "<table border=\"1\" class=\"dataframe\">\n",
       "  <thead>\n",
       "    <tr style=\"text-align: right;\">\n",
       "      <th></th>\n",
       "      <th>Open</th>\n",
       "      <th>High</th>\n",
       "      <th>Low</th>\n",
       "      <th>Close</th>\n",
       "      <th>Volume</th>\n",
       "      <th>Dividends</th>\n",
       "      <th>Stock Splits</th>\n",
       "      <th>Capital Gains</th>\n",
       "    </tr>\n",
       "    <tr>\n",
       "      <th>Date</th>\n",
       "      <th></th>\n",
       "      <th></th>\n",
       "      <th></th>\n",
       "      <th></th>\n",
       "      <th></th>\n",
       "      <th></th>\n",
       "      <th></th>\n",
       "      <th></th>\n",
       "    </tr>\n",
       "  </thead>\n",
       "  <tbody>\n",
       "    <tr>\n",
       "      <th>2025-06-23 00:00:00+01:00</th>\n",
       "      <td>112.922501</td>\n",
       "      <td>113.775009</td>\n",
       "      <td>112.762497</td>\n",
       "      <td>113.397499</td>\n",
       "      <td>760982</td>\n",
       "      <td>0.0</td>\n",
       "      <td>0.0</td>\n",
       "      <td>0.0</td>\n",
       "    </tr>\n",
       "  </tbody>\n",
       "</table>\n",
       "</div>"
      ],
      "text/plain": [
       "                                 Open        High         Low       Close  \\\n",
       "Date                                                                        \n",
       "2025-06-23 00:00:00+01:00  112.922501  113.775009  112.762497  113.397499   \n",
       "\n",
       "                           Volume  Dividends  Stock Splits  Capital Gains  \n",
       "Date                                                                       \n",
       "2025-06-23 00:00:00+01:00  760982        0.0           0.0            0.0  "
      ]
     },
     "execution_count": 12,
     "metadata": {},
     "output_type": "execute_result"
    }
   ],
   "source": [
    "etf.history(period=\"1d\")"
   ]
  },
  {
   "cell_type": "code",
   "execution_count": 17,
   "metadata": {},
   "outputs": [
    {
     "data": {
      "text/plain": [
       "'2025-06-23'"
      ]
     },
     "execution_count": 17,
     "metadata": {},
     "output_type": "execute_result"
    }
   ],
   "source": [
    "price_dict, price_date_dict = get_latest_prices(['IB01.L'])\n",
    "price_dates = list(price_date_dict.values())\n",
    "unique_dates = set([d for d in price_dates if d is not None])\n",
    "if len(unique_dates) == 1:\n",
    "    price_date = unique_dates.pop()\n",
    "else:\n",
    "    price_date = \"Mixed\"\n",
    "\n",
    "\n",
    "price_date"
   ]
  },
  {
   "cell_type": "code",
   "execution_count": null,
   "metadata": {},
   "outputs": [
    {
     "data": {
      "text/plain": [
       "({'IBTA.L': np.float64(5.763999938964844)}, {'IBTA.L': '2025-06-23'})"
      ]
     },
     "execution_count": 22,
     "metadata": {},
     "output_type": "execute_result"
    }
   ],
   "source": [
    "price_dict, price_date_dict = get_latest_prices(['IB01.L'])"
   ]
  },
  {
   "cell_type": "code",
   "execution_count": 24,
   "metadata": {},
   "outputs": [
    {
     "data": {
      "text/plain": [
       "'IBTA.L'"
      ]
     },
     "execution_count": 24,
     "metadata": {},
     "output_type": "execute_result"
    }
   ],
   "source": [
    "EXCHANGE_SUFFIX = {\n",
    "    \"NASDAQ\": \"\",\n",
    "    \"NYSE\": \"\",\n",
    "    \"AMEX\": \"\",\n",
    "    \"LSSETF\": \".L\",\n",
    "    # add more as needed\n",
    "}\n",
    "\n",
    "def format_symbol(symbol:str, exchange:str):\n",
    "    suffix = EXCHANGE_SUFFIX.get(exchange.upper())\n",
    "    if suffix is None:\n",
    "        raise ValueError(f\"Unknown exchange: {exchange}\")\n",
    "    return f\"{symbol}{suffix}\"\n",
    "\n",
    "format_symbol('IBTA','LSSETF')"
   ]
  },
  {
   "cell_type": "code",
   "execution_count": 47,
   "metadata": {},
   "outputs": [],
   "source": [
    "price_dict, price_date_dict = get_latest_prices(unique_syms)"
   ]
  },
  {
   "cell_type": "code",
   "execution_count": 48,
   "metadata": {},
   "outputs": [
    {
     "data": {
      "text/plain": [
       "{'IB01.L': np.float64(116.23999786376953),\n",
       " 'IBKR': np.float64(50.13759994506836),\n",
       " 'IBTA.L': np.float64(5.763999938964844),\n",
       " 'IGLN.L': np.float64(65.82499694824219),\n",
       " 'IWDA.L': np.float64(113.91000366210938),\n",
       " 'VUSD.L': np.float64(113.39749908447266)}"
      ]
     },
     "execution_count": 48,
     "metadata": {},
     "output_type": "execute_result"
    }
   ],
   "source": [
    "price_dict"
   ]
  },
  {
   "cell_type": "code",
   "execution_count": 25,
   "metadata": {},
   "outputs": [
    {
     "name": "stdout",
     "output_type": "stream",
     "text": [
      "{'AAPL': np.float64(201.77499389648438), 'IBTA.L': np.float64(5.763999938964844), 'TSLA': np.float64(351.260009765625)}\n",
      "{'AAPL': '2025-06-23', 'IBTA.L': '2025-06-23', 'TSLA': '2025-06-23'}\n"
     ]
    }
   ],
   "source": [
    "import yfinance as yf\n",
    "\n",
    "EXCHANGE_SUFFIX = {\n",
    "    \"NASDAQ\": \"\",\n",
    "    \"NYSE\": \"\",\n",
    "    \"AMEX\": \"\",\n",
    "    \"LSE\": \".L\",\n",
    "}\n",
    "\n",
    "def format_symbol(raw_symbol, exchange):\n",
    "    suffix = EXCHANGE_SUFFIX.get(exchange.upper())\n",
    "    if suffix is None:\n",
    "        raise ValueError(f\"Unknown exchange: {exchange}\")\n",
    "    return raw_symbol + suffix\n",
    "\n",
    "def get_latest_prices(symbols):\n",
    "    price_dict = {}\n",
    "    price_date_dict = {}\n",
    "    for symbol in symbols:\n",
    "        try:\n",
    "            data = yf.Ticker(symbol)\n",
    "            latest = data.history(period=\"1d\")[\"Close\"]\n",
    "            if not latest.empty:\n",
    "                price_dict[symbol] = latest.iloc[-1]\n",
    "                price_date_dict[symbol] = latest.index[-1].strftime(\"%Y-%m-%d\")\n",
    "            else:\n",
    "                price_dict[symbol] = None\n",
    "                price_date_dict[symbol] = None\n",
    "        except Exception:\n",
    "            price_dict[symbol] = None\n",
    "            price_date_dict[symbol] = None\n",
    "    return price_dict, price_date_dict\n",
    "\n",
    "# Usage:\n",
    "raw = [(\"AAPL\", \"NASDAQ\"), (\"IBTA\", \"LSE\"), (\"TSLA\", \"NYSE\")]\n",
    "symbols = [format_symbol(sym, exch) for sym, exch in raw]\n",
    "prices, dates = get_latest_prices(symbols)\n",
    "print(prices)\n",
    "print(dates)\n"
   ]
  },
  {
   "cell_type": "code",
   "execution_count": null,
   "metadata": {},
   "outputs": [],
   "source": []
  },
  {
   "cell_type": "code",
   "execution_count": 45,
   "metadata": {},
   "outputs": [
    {
     "ename": "AttributeError",
     "evalue": "'tuple' object has no attribute 'get'",
     "output_type": "error",
     "traceback": [
      "\u001b[31m---------------------------------------------------------------------------\u001b[39m",
      "\u001b[31mAttributeError\u001b[39m                            Traceback (most recent call last)",
      "\u001b[36mCell\u001b[39m\u001b[36m \u001b[39m\u001b[32mIn[45]\u001b[39m\u001b[32m, line 27\u001b[39m\n\u001b[32m     25\u001b[39m \u001b[38;5;66;03m#price_dict = get_latest_prices(['IBKR'])\u001b[39;00m\n\u001b[32m     26\u001b[39m price_dict = get_latest_prices(unique_syms)\n\u001b[32m---> \u001b[39m\u001b[32m27\u001b[39m pnl_df = \u001b[43mcalculate_yfinance_pnl\u001b[49m\u001b[43m(\u001b[49m\u001b[43mdf\u001b[49m\u001b[43m,\u001b[49m\u001b[43m \u001b[49m\u001b[43mprice_dict\u001b[49m\u001b[43m)\u001b[49m\n\u001b[32m     28\u001b[39m \u001b[38;5;66;03m# display(pnl_df)\u001b[39;00m\n\u001b[32m     29\u001b[39m pnl_df\n",
      "\u001b[36mCell\u001b[39m\u001b[36m \u001b[39m\u001b[32mIn[45]\u001b[39m\u001b[32m, line 9\u001b[39m, in \u001b[36mcalculate_yfinance_pnl\u001b[39m\u001b[34m(df, price_dict)\u001b[39m\n\u001b[32m      7\u001b[39m qty = \u001b[38;5;28mfloat\u001b[39m(row[\u001b[33m'\u001b[39m\u001b[33mPosition\u001b[39m\u001b[33m'\u001b[39m])\n\u001b[32m      8\u001b[39m avg_cost = \u001b[38;5;28mfloat\u001b[39m(row[\u001b[33m'\u001b[39m\u001b[33mAverage Cost\u001b[39m\u001b[33m'\u001b[39m])\n\u001b[32m----> \u001b[39m\u001b[32m9\u001b[39m last_price = \u001b[43mprice_dict\u001b[49m\u001b[43m.\u001b[49m\u001b[43mget\u001b[49m(symbol)\n\u001b[32m     10\u001b[39m \u001b[38;5;28;01mif\u001b[39;00m last_price \u001b[38;5;129;01mis\u001b[39;00m \u001b[38;5;129;01mnot\u001b[39;00m \u001b[38;5;28;01mNone\u001b[39;00m:\n\u001b[32m     11\u001b[39m     unrealized = (last_price - avg_cost) * qty\n",
      "\u001b[31mAttributeError\u001b[39m: 'tuple' object has no attribute 'get'"
     ]
    }
   ],
   "source": [
    "def calculate_yfinance_pnl(df, price_dict):\n",
    "    \"\"\"Given your positions DataFrame and a price_dict from get_latest_prices,\n",
    "    calculate P&L columns.\"\"\"\n",
    "    results = []\n",
    "    for _, row in df.iterrows():\n",
    "        symbol = row['Symbol']\n",
    "        qty = float(row['Position'])\n",
    "        avg_cost = float(row['Average Cost'])\n",
    "        last_price = price_dict.get(symbol)\n",
    "        if last_price is not None:\n",
    "            unrealized = (last_price - avg_cost) * qty\n",
    "            pct = 100 * (last_price - avg_cost) / avg_cost if avg_cost != 0 else 0\n",
    "            results.append({\n",
    "                'Symbol': symbol,\n",
    "                'Qty': qty,\n",
    "                'Avg Cost': avg_cost,\n",
    "                'Last Price': last_price,\n",
    "                'Unrealized PnL': unrealized,\n",
    "                'PnL %': pct\n",
    "            })\n",
    "    return pd.DataFrame(results)\n",
    "\n",
    "# USAGE:\n",
    "df = get_open_positions_from_gsheet()\n",
    "#price_dict = get_latest_prices(['IBKR'])\n",
    "price_dict = get_latest_prices(unique_syms)\n",
    "pnl_df = calculate_yfinance_pnl(df, price_dict)\n",
    "# display(pnl_df)\n",
    "pnl_df"
   ]
  },
  {
   "cell_type": "code",
   "execution_count": null,
   "metadata": {},
   "outputs": [],
   "source": [
    "calculate_yfinance_pnl(df, price_dict)"
   ]
  },
  {
   "cell_type": "code",
   "execution_count": 14,
   "metadata": {},
   "outputs": [
    {
     "name": "stdout",
     "output_type": "stream",
     "text": [
      "Portfolio as of: 2025-06-22 21:26:22\n",
      "\n",
      "Symbol  | Qty    | Avg Cost | Price   | Unrlz PnL | Rlz PnL\n",
      "----------------------------------------------------------\n",
      "IBKR    |  1.9276 |    51.71 |   51.53 |     -0.34 |    0.00\n",
      "----------------------------------------------------------\n",
      "TOTAL Unrealized PnL: $-0.34\n",
      "TOTAL Realized PnL:   $0.00\n"
     ]
    }
   ],
   "source": [
    "def summarize_portfolio(df):\n",
    "    summary_lines = []\n",
    "    summary_lines.append(f\"Portfolio as of: {df['DateTime'].max()}\\n\")\n",
    "    summary_lines.append(\"Symbol  | Qty    | Avg Cost | Price   | Unrlz PnL | Rlz PnL\")\n",
    "    summary_lines.append(\"-\" * 58)\n",
    "    for _, row in df.iterrows():\n",
    "        summary_lines.append(\n",
    "            f\"{row['Symbol']:<7} | {row['Position']:>7.4f} | \"\n",
    "            f\"{row['Average Cost']:>8.2f} | {row['Market Price']:>7.2f} | \"\n",
    "            f\"{row['Unrealized PnL']:>9.2f} | {row['Realized PnL']:>7.2f}\"\n",
    "        )\n",
    "    summary_lines.append(\"-\" * 58)\n",
    "    summary_lines.append(f\"TOTAL Unrealized PnL: ${df['Unrealized PnL'].sum():.2f}\")\n",
    "    summary_lines.append(f\"TOTAL Realized PnL:   ${df['Realized PnL'].sum():.2f}\")\n",
    "    return \"\\n\".join(summary_lines)\n",
    "\n",
    "if __name__ == \"__main__\":\n",
    "    df = get_open_positions_from_gsheet()\n",
    "    msg = summarize_portfolio(df)\n",
    "    print(msg)\n"
   ]
  },
  {
   "cell_type": "code",
   "execution_count": 26,
   "metadata": {},
   "outputs": [
    {
     "name": "stdout",
     "output_type": "stream",
     "text": [
      "Portfolio (latest market prices)\n",
      "\n",
      "Symbol  | Qty    | Avg Cost | Price   | Unrlz PnL | PnL %  \n",
      "------------------------------------------------------------\n",
      "IBKR    |  1.9276 |    51.71 |   51.34 |     -0.71 |  -0.71%\n",
      "------------------------------------------------------------\n",
      "TOTAL Portfolio Unrealized P&L: $-0.71\n",
      "TOTAL Portfolio Unrealised P&L %: -0.71%\n"
     ]
    }
   ],
   "source": [
    "def summarize_yfinance_portfolio(pnl_df):\n",
    "    summary_lines = []\n",
    "    summary_lines.append(\"Portfolio (latest market prices)\\n\")\n",
    "    summary_lines.append(\"Symbol  | Qty    | Avg Cost | Price   | Unrlz PnL | PnL %  \")\n",
    "    summary_lines.append(\"-\" * 60)\n",
    "    for _, row in pnl_df.iterrows():\n",
    "        summary_lines.append(\n",
    "            f\"{row['Symbol']:<7} | {row['Qty']:>7.4f} | \"\n",
    "            f\"{row['Avg Cost']:>8.2f} | {row['Last Price']:>7.2f} | \"\n",
    "            f\"{row['Unrealized PnL']:>9.2f} | {row['PnL %']:>6.2f}%\"\n",
    "        )\n",
    "    summary_lines.append(\"-\" * 60)\n",
    "    total_unrlz_pnl = pnl_df['Unrealized PnL'].sum()\n",
    "    total_invested = (pnl_df['Avg Cost'] * pnl_df['Qty']).sum()\n",
    "    total_pnl_pct = 100 * total_unrlz_pnl / total_invested if total_invested != 0 else 0\n",
    "    summary_lines.append(f\"TOTAL Portfolio Unrealized P&L: ${total_unrlz_pnl:.2f}\")\n",
    "    summary_lines.append(f\"TOTAL Portfolio Unrealised P&L %: {total_pnl_pct:.2f}%\")\n",
    "    return \"\\n\".join(summary_lines)\n",
    "\n",
    "# Example usage:\n",
    "msg = summarize_yfinance_portfolio(pnl_df)\n",
    "print(msg)\n"
   ]
  },
  {
   "cell_type": "code",
   "execution_count": 15,
   "metadata": {},
   "outputs": [],
   "source": [
    "import requests\n",
    "\n",
    "def send_telegram_message(token, chat_id, message):\n",
    "    url = f\"https://api.telegram.org/bot{token}/sendMessage\"\n",
    "    payload = {\n",
    "        \"chat_id\": chat_id,\n",
    "        \"text\": message,\n",
    "        \"parse_mode\": \"Markdown\"  # or \"HTML\"\n",
    "    }\n",
    "    response = requests.post(url, data=payload)\n",
    "    if response.status_code == 200:\n",
    "        print(\"Telegram message sent!\")\n",
    "    else:\n",
    "        print(\"Failed to send:\", response.text)\n"
   ]
  },
  {
   "cell_type": "code",
   "execution_count": 25,
   "metadata": {},
   "outputs": [
    {
     "name": "stdout",
     "output_type": "stream",
     "text": [
      "Telegram message sent!\n"
     ]
    }
   ],
   "source": [
    "import requests\n",
    "\n",
    "def send_telegram_message(token, chat_id, message):\n",
    "    url = f\"https://api.telegram.org/bot{token}/sendMessage\"\n",
    "    payload = {\n",
    "        \"chat_id\": chat_id,\n",
    "        \"text\": message,\n",
    "        \"parse_mode\": \"Markdown\"  # or \"HTML\"\n",
    "    }\n",
    "    response = requests.post(url, data=payload)\n",
    "    if response.status_code == 200:\n",
    "        print(\"Telegram message sent!\")\n",
    "    else:\n",
    "        print(\"Failed to send:\", response.text)\n",
    "\n",
    "if __name__ == \"__main__\":\n",
    "    # Your portfolio summary message\n",
    "    msg = \"\"\"\n",
    "Portfolio as of: 2025-06-22 21:26:22\n",
    "\n",
    "Symbol  | Qty    | Avg Cost | Price   | Unrlz PnL | Rlz PnL\n",
    "----------------------------------------------------------\n",
    "IBKR    |  1.9276 |    51.71 |   51.53 |     -0.34 |    0.00\n",
    "----------------------------------------------------------\n",
    "TOTAL Unrealized PnL: $-0.34\n",
    "TOTAL Realized PnL:   $0.00\n",
    "\"\"\"\n",
    "    TELEGRAM_BOT_TOKEN = \"7973671527:AAERsWVREF8c1cTjCNsrZ7003xHviwmCzWc\"\n",
    "    TELEGRAM_CHAT_ID = \"7311840033\"\n",
    "\n",
    "    send_telegram_message(TELEGRAM_BOT_TOKEN, TELEGRAM_CHAT_ID, msg)\n"
   ]
  },
  {
   "cell_type": "code",
   "execution_count": 27,
   "metadata": {},
   "outputs": [],
   "source": [
    "def get_account_summary_from_gsheet(sheet_name='myportfolio', worksheet_name='accountsummary'):\n",
    "    gc = gspread.service_account(filename='gdrive-creds.json')\n",
    "    sh = gc.open(sheet_name)\n",
    "    ws = sh.worksheet(worksheet_name)\n",
    "    df = get_as_dataframe(ws)\n",
    "    df = df.dropna(subset=['Tag'])\n",
    "    if 'Unnamed: 0' in df.columns:\n",
    "        df = df.drop(columns=['Unnamed: 0'])\n",
    "    df['DateTime'] = pd.to_datetime(df['DateTime'])\n",
    "    df = df.sort_values(['Tag', 'DateTime'])\n",
    "    latest_df = df.groupby('Tag').tail(1).reset_index(drop=True)\n",
    "    return latest_df\n"
   ]
  },
  {
   "cell_type": "code",
   "execution_count": 31,
   "metadata": {},
   "outputs": [],
   "source": [
    "df = get_account_summary_from_gsheet(sheet_name='myportfolio', worksheet_name='accountsummary')"
   ]
  },
  {
   "cell_type": "code",
   "execution_count": 30,
   "metadata": {},
   "outputs": [],
   "source": [
    "def summarize_account_summary(df):\n",
    "    lines = []\n",
    "    latest_datetime = df['DateTime'].max()\n",
    "    lines.append(f\"Account Summary as of: {latest_datetime}\\n\")\n",
    "    lines.append(\"Tag                   | Value        | Currency\")\n",
    "    lines.append(\"-\" * 45)\n",
    "    for _, row in df.iterrows():\n",
    "        lines.append(\n",
    "            f\"{row['Tag']:<22} | {row['Value']:>12} | {row['Currency']}\"\n",
    "        )\n",
    "    lines.append(\"-\" * 45)\n",
    "    return \"\\n\".join(lines)\n"
   ]
  },
  {
   "cell_type": "code",
   "execution_count": 33,
   "metadata": {},
   "outputs": [
    {
     "name": "stdout",
     "output_type": "stream",
     "text": [
      "Account Summary as of: 2025-06-22 21:26:22\n",
      "\n",
      "Tag                   | Value        | Currency\n",
      "---------------------------------------------\n",
      "AvailableFunds         |       9965.0 | USD\n",
      "BuyingPower            |       9965.0 | USD\n",
      "NetLiquidation         |     10064.33 | USD\n",
      "RealizedPnL            |          0.0 | BASE\n",
      "TotalCashValue         |       9965.0 | USD\n",
      "UnrealizedPnL          |        -0.34 | BASE\n",
      "---------------------------------------------\n"
     ]
    }
   ],
   "source": [
    "print(summarize_account_summary(df))"
   ]
  }
 ],
 "metadata": {
  "kernelspec": {
   "display_name": ".venv",
   "language": "python",
   "name": "python3"
  },
  "language_info": {
   "codemirror_mode": {
    "name": "ipython",
    "version": 3
   },
   "file_extension": ".py",
   "mimetype": "text/x-python",
   "name": "python",
   "nbconvert_exporter": "python",
   "pygments_lexer": "ipython3",
   "version": "3.13.3"
  }
 },
 "nbformat": 4,
 "nbformat_minor": 2
}
