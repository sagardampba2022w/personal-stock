{
 "cells": [
  {
   "cell_type": "code",
   "execution_count": null,
   "id": "c9f333a7",
   "metadata": {},
   "outputs": [],
   "source": [
    "import pandas as pd\n",
    "import matplotlib.pyplot as plt\n",
    "from sklearn.metrics import (\n",
    "    accuracy_score, precision_score, recall_score, f1_score,\n",
    "    roc_auc_score, average_precision_score\n",
    ")\n",
    "import numpy as np\n",
    "\n"
   ]
  },
  {
   "cell_type": "code",
   "execution_count": null,
   "id": "0704a2db",
   "metadata": {},
   "outputs": [],
   "source": [
    "master_data_path = \"/Users/sagardhal/Desktop/Practice/personal-stock/results/predictions_20250908_092155.parquet\"   # example\n",
    "\n",
    "\n",
    "if master_data_path.endswith(\".csv\"):\n",
    "    df = pd.read_csv(predictions_path)\n",
    "elif master_data_path.endswith(\".parquet\"):\n",
    "    df = pd.read_parquet(predictions_path)\n",
    "else:\n",
    "    raise ValueError(\"Unsupported file format for predictions\")\n",
    "\n",
    "\n",
    "print(\"Mater Data loaded:\", df.shape)\n",
    "\n",
    "master_df = df.copy()\n",
    "master_df.head()"
   ]
  },
  {
   "cell_type": "code",
   "execution_count": null,
   "id": "dc3004ca",
   "metadata": {},
   "outputs": [],
   "source": [
    "daily_preds_path = \"/Users/sagardhal/Desktop/Practice/personal-stock/new_pred_logs/predictions_top2_asof_2025-09-12.csv\"   # example\n",
    "\n",
    "\n",
    "if daily_preds_path.endswith(\".csv\"):\n",
    "    df = pd.read_csv(daily_preds_path)\n",
    "elif daily_preds_path.endswith(\".parquet\"):\n",
    "    df = pd.read_parquet(daily_preds_path)\n",
    "else:\n",
    "    raise ValueError(\"Unsupported file format for predictions\")\n",
    "\n",
    "\n",
    "print(\"Mater Data loaded:\", df.shape)\n",
    "\n",
    "daily_preds_df = df.copy()\n",
    "daily_preds_df.head()"
   ]
  },
  {
   "cell_type": "code",
   "execution_count": null,
   "id": "55c818cd",
   "metadata": {},
   "outputs": [],
   "source": [
    "from scipy.stats import ks_2samp\n",
    "import matplotlib.pyplot as plt\n",
    "\n",
    "# --- 1) restrict baseline to training split ---\n",
    "baseline = master_df.loc[master_df[\"split\"] == \"train\", \"rf_prob_30d\"].dropna()\n",
    "current  = daily_preds_df[\"rf_prob_30d\"].dropna()\n",
    "\n",
    "# --- 2) KS test ---\n",
    "stat, pval = ks_2samp(baseline, current)\n",
    "print(f\"KS statistic: {stat:.4f}, p-value: {pval:.2e}\")\n",
    "\n",
    "# --- 3) visualize distributions ---\n",
    "plt.hist(baseline, bins=50, alpha=0.5, label=\"Train\", density=True)\n",
    "plt.hist(current, bins=50, alpha=0.5, label=\"Production\", density=True)\n",
    "plt.legend()\n",
    "plt.xlabel(\"rf_prob_30d\")\n",
    "plt.ylabel(\"Density\")\n",
    "plt.title(\"Prediction distribution drift (Train vs Production)\")\n",
    "plt.show()\n"
   ]
  },
  {
   "cell_type": "code",
   "execution_count": null,
   "id": "7d90bce3",
   "metadata": {},
   "outputs": [],
   "source": [
    "train_stats = master_df[master_df[\"split\"]==\"train\"].describe().T\n",
    "prod_stats  = daily_preds_df.describe().T\n"
   ]
  },
  {
   "cell_type": "code",
   "execution_count": null,
   "id": "179bc2db",
   "metadata": {},
   "outputs": [],
   "source": [
    "train_stats.loc[\"rf_prob_30d\"]"
   ]
  },
  {
   "cell_type": "code",
   "execution_count": null,
   "id": "a81442dc",
   "metadata": {},
   "outputs": [],
   "source": [
    "prod_stats.loc[\"rf_prob_30d\"]"
   ]
  }
 ],
 "metadata": {
  "kernelspec": {
   "display_name": "personal-stock",
   "language": "python",
   "name": "python3"
  },
  "language_info": {
   "codemirror_mode": {
    "name": "ipython",
    "version": 3
   },
   "file_extension": ".py",
   "mimetype": "text/x-python",
   "name": "python",
   "nbconvert_exporter": "python",
   "pygments_lexer": "ipython3",
   "version": "3.13.5"
  }
 },
 "nbformat": 4,
 "nbformat_minor": 5
}
